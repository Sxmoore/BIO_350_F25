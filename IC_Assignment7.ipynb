{
 "cells": [
  {
   "cell_type": "code",
   "execution_count": 1,
   "id": "084a2be5",
   "metadata": {},
   "outputs": [],
   "source": [
    "# Import numpy\n",
    "import numpy as np\n",
    "import matplotlib.pyplot as plt\n"
   ]
  },
  {
   "cell_type": "code",
   "execution_count": null,
   "id": "29895627",
   "metadata": {},
   "outputs": [],
   "source": [
    "# Create function to calculate tree population over time using matrix multiplication\n",
    "def tree_population(initial_population, transition_matrix, years):\n",
    "    #Initialize the transition Matrix A\n",
    "    A = np.array([[0.8, 0.1, 0.1],[0.25, 0.15, 0.6], [0.1, 0.25, 0.65]])\n",
    "    #Initialize the population vector with the initial population\n",
    "   n_t = initial_population          )\n",
    "\n",
    "    "
   ]
  },
  {
   "cell_type": "code",
   "execution_count": null,
   "id": "c4e03f02",
   "metadata": {},
   "outputs": [],
   "source": [
    "# Plot populations produced by tree_population()\n",
    "\n",
    "years = 50\n",
    "initial_population = np.array([1, 20, 79])  # Initial populations for saplings, juveniles, adults"
   ]
  }
 ],
 "metadata": {
  "kernelspec": {
   "display_name": "IC_assignments",
   "language": "python",
   "name": "python3"
  },
  "language_info": {
   "codemirror_mode": {
    "name": "ipython",
    "version": 3
   },
   "file_extension": ".py",
   "mimetype": "text/x-python",
   "name": "python",
   "nbconvert_exporter": "python",
   "pygments_lexer": "ipython3",
   "version": "3.13.5"
  }
 },
 "nbformat": 4,
 "nbformat_minor": 5
}
