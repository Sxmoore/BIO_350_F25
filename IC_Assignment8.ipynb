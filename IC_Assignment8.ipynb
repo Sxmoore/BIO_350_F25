{
 "cells": [
  {
   "cell_type": "markdown",
   "id": "52a5c88a",
   "metadata": {},
   "source": [
    "Chapter 6 & 7: probability distributions & hypothesis testing\n",
    "- Creating a program/function that can answer the following questions from Ch. 7 in handbook of Q. Ecology\n",
    "    - Probability we ill find two eggs in 1st nest we check?\n",
    "    - probability team will get 3 nests in a row with 1 egg?\n",
    "    - Average # of eggs per nest?"
   ]
  },
  {
   "cell_type": "markdown",
   "id": "9ea42e26",
   "metadata": {},
   "source": [
    "- Finally, be able to adject the input parameters.\n",
    "    - Such as how many nests with 1/2/3 eggs\n",
    "    - how many nests in a row with 1 egg"
   ]
  },
  {
   "cell_type": "code",
   "execution_count": 6,
   "id": "a9410e39",
   "metadata": {},
   "outputs": [],
   "source": [
    "def eagle_nest_analysis(nests_with_1_egg, nests_with_2_eggs, nests_with_3_eggs, nr_of_nests_in_a_row_with_1_egg):\n",
    "    \"\"\"\"\"\n",
    "    Function that calculates and returns the following answers printed:\n",
    "    1. Probability we will find 2 eggs in 1st nest\n",
    "    2. Probability we will get N nests in a row with 1 egg\n",
    "    3. Average nr. of eggs per nests_with_2_eggs\n",
    "\n",
    "    Parameters\n",
    "    nests_with_1_egg (int): Number of nests with 1 egg\n",
    "    nests_with_2_eggs (int): Number of nests with 2 eggs\n",
    "    nests_with_3_egg (int): Number of nests with 3 eggs\n",
    "    nr_of_nests_in_a_row_with_1_egg (int): Number of nests in a row with 1 egg\n",
    "    Returns:\n",
    "    None\n",
    "    \"\"\"\"\"\n",
    "\n",
    "    #Calculate total numbers of nests\n",
    "    total_nr_of_nests = (nests_with_1_egg + nests_with_2_eggs + nests_with_3_eggs)\n",
    "    # Calculate probability of finding 1, 2, or 3, eggs in a nest\n",
    "    Prob1 = (nests_with_1_egg / total_nr_of_nests)\n",
    "    Prob2 = (nests_with_2_eggs / total_nr_of_nests)\n",
    "    Prob3 = (nests_with_3_eggs / total_nr_of_nests)\n",
    "    # Answer the questions above and print the results\n",
    "    print(\"Probability we will find 2 eggs in 1st nest: \", Prob2)\n",
    "\n",
    "    Prob_eggs_in_a_row = Prob1 ** nr_of_nests_in_a_row_with_1_egg\n",
    "    \n",
    "    print(\"Probability team will get \", nr_of_nests_in_a_row_with_1_egg, \" nests in a row with 1 egg : \", Prob_eggs_in_a_row)\n",
    "    # Lets say we have a variable called Average_nr_eggs_per_nest\n",
    "    Average_nr_eggs_per_nest = ((nests_with_1_egg + nests_with_2_eggs * 2 + nests_with_3_eggs * 3) / total_nr_of_nests)\n",
    "    print(f\"Average number of eggs per nest: {Average_nr_eggs_per_nest}\")\n",
    "\n",
    "    return None"
   ]
  },
  {
   "cell_type": "code",
   "execution_count": 8,
   "id": "2bf2863e",
   "metadata": {},
   "outputs": [
    {
     "name": "stdout",
     "output_type": "stream",
     "text": [
      "Probability we will find 2 eggs in 1st nest:  0.7\n",
      "Probability team will get  3  nests in a row with 1 egg :  0.008000000000000002\n",
      "Average number of eggs per nest: 1.9\n",
      "Probability we will find 2 eggs in 1st nest:  0.5471698113207547\n",
      "Probability team will get  3  nests in a row with 1 egg :  0.033000396300301583\n",
      "Average number of eggs per nest: 1.8113207547169812\n"
     ]
    }
   ],
   "source": [
    "eagle_nest_analysis(4, 14, 2, 3) \n",
    "\n",
    "eagle_nest_analysis(17, 29, 7, 3)"
   ]
  }
 ],
 "metadata": {
  "kernelspec": {
   "display_name": "IC_assignments",
   "language": "python",
   "name": "python3"
  },
  "language_info": {
   "codemirror_mode": {
    "name": "ipython",
    "version": 3
   },
   "file_extension": ".py",
   "mimetype": "text/x-python",
   "name": "python",
   "nbconvert_exporter": "python",
   "pygments_lexer": "ipython3",
   "version": "3.13.5"
  }
 },
 "nbformat": 4,
 "nbformat_minor": 5
}
