{
 "cells": [
  {
   "cell_type": "markdown",
   "id": "52a5c88a",
   "metadata": {},
   "source": [
    "Chapter 6 & 7: probability distributions & hypothesis testing\n",
    "- Creating a program/function that can answer the following questions from Ch. 7 in handbook of Q. Ecology\n",
    "    - Probability we ill find two eggs in 1st nest we check?\n",
    "    - probability team will get 3 nests in a row with 1 egg?\n",
    "    - Average # of eggs per nest?"
   ]
  },
  {
   "cell_type": "markdown",
   "id": "9ea42e26",
   "metadata": {},
   "source": [
    "- Finally, be able to adject the input parameters.\n",
    "    - Such as how many nests with 1/2/3 eggs\n",
    "    - how many nests in a row with 1 egg"
   ]
  },
  {
   "cell_type": "code",
   "execution_count": null,
   "id": "a9410e39",
   "metadata": {},
   "outputs": [],
   "source": []
  },
  {
   "cell_type": "code",
   "execution_count": null,
   "id": "2bf2863e",
   "metadata": {},
   "outputs": [],
   "source": []
  }
 ],
 "metadata": {
  "kernelspec": {
   "display_name": "IC_assignments",
   "language": "python",
   "name": "python3"
  },
  "language_info": {
   "codemirror_mode": {
    "name": "ipython",
    "version": 3
   },
   "file_extension": ".py",
   "mimetype": "text/x-python",
   "name": "python",
   "nbconvert_exporter": "python",
   "pygments_lexer": "ipython3",
   "version": "3.13.5"
  }
 },
 "nbformat": 4,
 "nbformat_minor": 5
}
