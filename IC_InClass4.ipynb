{
 "cells": [
  {
   "cell_type": "code",
   "execution_count": null,
   "id": "c723615d",
   "metadata": {},
   "outputs": [
    {
     "name": "stderr",
     "output_type": "stream",
     "text": [
      "UsageError: Cell magic `%%R` not found.\n"
     ]
    }
   ],
   "source": [
    "install.packages(\"deSolve\")\n",
    "install.packages(\"ggplot2\")\n",
    "install.packages(\"patchwork\")\n",
    "library(deSolve)\n",
    "library(ggplot2)\n",
    "library(patchwork)"
   ]
  }
 ],
 "metadata": {
  "kernelspec": {
   "display_name": "IC_assignments",
   "language": "python",
   "name": "python3"
  },
  "language_info": {
   "codemirror_mode": {
    "name": "ipython",
    "version": 3
   },
   "file_extension": ".py",
   "mimetype": "text/x-python",
   "name": "python",
   "nbconvert_exporter": "python",
   "pygments_lexer": "ipython3",
   "version": "3.13.5"
  }
 },
 "nbformat": 4,
 "nbformat_minor": 5
}
